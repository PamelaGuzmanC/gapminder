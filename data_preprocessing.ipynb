{
 "cells": [
  {
   "cell_type": "code",
   "execution_count": 4,
   "metadata": {},
   "outputs": [
    {
     "name": "stderr",
     "output_type": "stream",
     "text": [
      "/var/folders/45/y9kz9h7s79ncqxpjsntbt0600000gn/T/ipykernel_5553/1690625228.py:16: FutureWarning: Series.fillna with 'method' is deprecated and will raise in a future version. Use obj.ffill() or obj.bfill() instead.\n",
      "  melted_df[value_name] = melted_df[value_name].fillna(method='ffill')\n",
      "/var/folders/45/y9kz9h7s79ncqxpjsntbt0600000gn/T/ipykernel_5553/1690625228.py:16: FutureWarning: Series.fillna with 'method' is deprecated and will raise in a future version. Use obj.ffill() or obj.bfill() instead.\n",
      "  melted_df[value_name] = melted_df[value_name].fillna(method='ffill')\n",
      "/var/folders/45/y9kz9h7s79ncqxpjsntbt0600000gn/T/ipykernel_5553/1690625228.py:16: FutureWarning: Series.fillna with 'method' is deprecated and will raise in a future version. Use obj.ffill() or obj.bfill() instead.\n",
      "  melted_df[value_name] = melted_df[value_name].fillna(method='ffill')\n"
     ]
    }
   ],
   "source": [
    "import pandas as pd\n",
    "\n",
    "def load_and_transform_data(file_path, value_name):\n",
    "    df = pd.read_csv(file_path)\n",
    "    melted_df = pd.melt(df, id_vars=['country'], var_name='year', value_name=value_name)\n",
    "\n",
    "    # Convert columns to numeric (improved handling of missing values)\n",
    "    melted_df[value_name] = (\n",
    "        melted_df[value_name]\n",
    "        .astype(str)\n",
    "        .str.replace(r'[kMB]', '', regex=True)\n",
    "        .str.replace(',', '.', regex=False)\n",
    "        .replace('', '0')\n",
    "        .astype(float)\n",
    "    )\n",
    "    melted_df[value_name] = melted_df[value_name].fillna(method='ffill')\n",
    "\n",
    "    # Scale values\n",
    "    melted_df[value_name] = melted_df[value_name].apply(\n",
    "        lambda x: x * 1000 if x < 1000000 else (x * 1000000 if x < 1000000000 else x)\n",
    "    )\n",
    "    return melted_df\n",
    "\n",
    "# Load and transform data\n",
    "gni_df = load_and_transform_data(\"app/gni.csv\", \"GNI\")\n",
    "lex_df = load_and_transform_data(\"app/lex.csv\", \"LEX\")\n",
    "pop_df = load_and_transform_data(\"app/pop.csv\", \"POP\")\n",
    "\n",
    "# Merge dataframes \n",
    "merged_df = gni_df.merge(lex_df, on=['country', 'year']).merge(pop_df, on=['country', 'year'])\n",
    "merged_df['year'] = pd.to_numeric(merged_df['year'],errors='coerce')\n",
    "\n",
    "# Save as Parquet\n",
    "merged_df.to_parquet(\"app/gapminder_data.parquet\")"
   ]
  }
 ],
 "metadata": {
  "kernelspec": {
   "display_name": "Python 3",
   "language": "python",
   "name": "python3"
  },
  "language_info": {
   "codemirror_mode": {
    "name": "ipython",
    "version": 3
   },
   "file_extension": ".py",
   "mimetype": "text/x-python",
   "name": "python",
   "nbconvert_exporter": "python",
   "pygments_lexer": "ipython3",
   "version": "3.11.6"
  }
 },
 "nbformat": 4,
 "nbformat_minor": 2
}
