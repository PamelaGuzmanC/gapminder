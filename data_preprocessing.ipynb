{
 "cells": [
  {
   "cell_type": "code",
   "execution_count": 12,
   "metadata": {},
   "outputs": [
    {
     "name": "stderr",
     "output_type": "stream",
     "text": [
      "2024-05-18 16:49:21.859 No runtime found, using MemoryCacheStorageManager\n",
      "2024-05-18 16:49:21.866 No runtime found, using MemoryCacheStorageManager\n"
     ]
    },
    {
     "name": "stdout",
     "output_type": "stream",
     "text": [
      "       country  year  life_expectancy population gni_per_capita\n",
      "0  Afghanistan  1990             53.8      10.7M          20.5k\n",
      "1       Angola  1990             49.7      11.8M           3000\n",
      "2      Albania  1990             72.8       3.3M           2550\n",
      "3          UAE  1990             68.7       1.9M           2550\n",
      "4    Argentina  1990             72.5      32.6M           6870\n"
     ]
    }
   ],
   "source": [
    "import pandas as pd\n",
    "import streamlit as st\n",
    "\n",
    "@st.cache_data\n",
    "def load_and_preprocess_data():\n",
    "    # Load the CSV files\n",
    "    life_expectancy_df = pd.read_csv('lex.csv')\n",
    "    population_df = pd.read_csv('pop.csv')\n",
    "    gni_df = pd.read_csv('ny_gnp_pcap_pp_cd.csv')\n",
    "\n",
    "    # Forward fill missing values\n",
    "    life_expectancy_df.ffill(inplace=True)\n",
    "    population_df.ffill(inplace=True)\n",
    "    gni_df.ffill(inplace=True)\n",
    "\n",
    "    # Transform each dataframe to tidy data format\n",
    "    life_expectancy_df = life_expectancy_df.melt(id_vars=[\"country\"], var_name=\"year\", value_name=\"life_expectancy\")\n",
    "    population_df = population_df.melt(id_vars=[\"country\"], var_name=\"year\", value_name=\"population\")\n",
    "    gni_df = gni_df.melt(id_vars=[\"country\"], var_name=\"year\", value_name=\"gni_per_capita\")\n",
    "\n",
    "    # Merge the dataframes\n",
    "    merged_df = life_expectancy_df.merge(population_df, on=[\"country\", \"year\"])\n",
    "    merged_df = merged_df.merge(gni_df, on=[\"country\", \"year\"])\n",
    "\n",
    "    return merged_df\n",
    "\n",
    "if __name__ == \"__main__\":\n",
    "    df = load_and_preprocess_data()\n",
    "    print(df.head())\n"
   ]
  }
 ],
 "metadata": {
  "kernelspec": {
   "display_name": "Python 3",
   "language": "python",
   "name": "python3"
  },
  "language_info": {
   "codemirror_mode": {
    "name": "ipython",
    "version": 3
   },
   "file_extension": ".py",
   "mimetype": "text/x-python",
   "name": "python",
   "nbconvert_exporter": "python",
   "pygments_lexer": "ipython3",
   "version": "3.11.6"
  }
 },
 "nbformat": 4,
 "nbformat_minor": 2
}
